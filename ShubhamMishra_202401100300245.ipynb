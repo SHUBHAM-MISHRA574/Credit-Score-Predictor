{
  "nbformat": 4,
  "nbformat_minor": 0,
  "metadata": {
    "colab": {
      "provenance": []
    },
    "kernelspec": {
      "name": "python3",
      "display_name": "Python 3"
    },
    "language_info": {
      "name": "python"
    }
  },
  "cells": [
    {
      "cell_type": "code",
      "execution_count": 3,
      "metadata": {
        "colab": {
          "base_uri": "https://localhost:8080/"
        },
        "id": "32KmQ6-jj1_D",
        "outputId": "3f800e34-11e7-4ed1-8a00-3ed60ffcd350"
      },
      "outputs": [
        {
          "output_type": "stream",
          "name": "stdout",
          "text": [
            "   CustomerID  Age  Income  LoanAmount  CreditScore\n",
            "0           1   34   63961       13576          531\n",
            "1           2   50   34158       19395          323\n",
            "2           3   67   92702       37663          416\n",
            "3           4   26   84846       44572          747\n",
            "4           5   58   40787       25598          805\n",
            "Mean Squared Error: 77039.2842810213\n",
            "R-squared: -9.44644729434587\n",
            "Predicted Credit Score: 651.0666706564242\n"
          ]
        }
      ],
      "source": [
        "# Import necessary libraries\n",
        "import pandas as pd\n",
        "from sklearn.model_selection import train_test_split\n",
        "from sklearn.linear_model import LinearRegression\n",
        "from sklearn.metrics import mean_squared_error, r2_score\n",
        "\n",
        "# Load the dataset\n",
        "data = pd.read_csv('credit_data.csv')\n",
        "\n",
        "# Display the first few rows of the dataset\n",
        "print(data.head())\n",
        "\n",
        "# Define features (X) and target (y)\n",
        "# Features: Age, Income, LoanAmount\n",
        "# Target: CreditScore\n",
        "X = data[['Age', 'Income', 'LoanAmount']]\n",
        "y = data['CreditScore']\n",
        "\n",
        "# Split the data into training and testing sets (80% training, 20% testing)\n",
        "X_train, X_test, y_train, y_test = train_test_split(X, y, test_size=0.2, random_state=42)\n",
        "\n",
        "# Initialize the Linear Regression model\n",
        "model = LinearRegression()\n",
        "\n",
        "# Train the model on the training data\n",
        "model.fit(X_train, y_train)\n",
        "\n",
        "# Make predictions on the test data\n",
        "y_pred = model.predict(X_test)\n",
        "\n",
        "# Evaluate the model\n",
        "# Mean Squared Error (MSE) measures the average squared difference between predicted and actual values\n",
        "mse = mean_squared_error(y_test, y_pred)\n",
        "# R-squared (R2) measures how well the model explains the variance in the target variable\n",
        "r2 = r2_score(y_test, y_pred)\n",
        "\n",
        "print(f\"Mean Squared Error: {mse}\")\n",
        "print(f\"R-squared: {r2}\")\n",
        "\n",
        "# Predict a credit score for a new data point\n",
        "# Replace the values below with actual data for prediction\n",
        "new_data = pd.DataFrame({\n",
        "    'Age': [30],  # Age of the customer\n",
        "    'Income': [50000],  # Annual income\n",
        "    'LoanAmount': [20000]  # Loan amount\n",
        "})\n",
        "\n",
        "predicted_score = model.predict(new_data)\n",
        "print(f\"Predicted Credit Score: {predicted_score[0]}\")"
      ]
    }
  ]
}